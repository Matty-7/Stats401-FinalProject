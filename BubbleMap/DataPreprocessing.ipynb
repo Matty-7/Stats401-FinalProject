{
 "cells": [
  {
   "cell_type": "code",
   "execution_count": 7,
   "metadata": {},
   "outputs": [],
   "source": [
    "\n",
    "import pandas as pd\n",
    "\n",
    "# Load the data\n",
    "file_path = '/Users/huanjingheng/Downloads/LinkedInJobPostings2023/job_postings.csv'\n",
    "city_job_count = pd.read_csv(file_path)\n"
   ]
  },
  {
   "cell_type": "code",
   "execution_count": 8,
   "metadata": {},
   "outputs": [],
   "source": [
    "\n",
    "# Define a mapping for merging similar city names\n",
    "city_mapping = {\n",
    "    'New York City Metropolitan Area': 'New York, NY',\n",
    "    'New York, United States': 'New York, NY',\n",
    "    # Add more mappings as needed\n",
    "}\n",
    "\n",
    "# Apply the mapping to unify city names\n",
    "city_job_count['location'] = city_job_count['location'].replace(city_mapping)\n"
   ]
  },
  {
   "cell_type": "code",
   "execution_count": 9,
   "metadata": {},
   "outputs": [],
   "source": [
    "\n",
    "# Aggregate the job counts for the unified city names\n",
    "city_job_count_aggregated = city_job_count.groupby('location').sum().reset_index()\n"
   ]
  },
  {
   "cell_type": "code",
   "execution_count": 10,
   "metadata": {},
   "outputs": [],
   "source": [
    "\n",
    "# Remove entries where the location is only specified at the state or country level\n",
    "city_job_count_filtered = city_job_count_aggregated[~city_job_count_aggregated['location'].str.contains(', United States')]\n"
   ]
  },
  {
   "cell_type": "code",
   "execution_count": 11,
   "metadata": {},
   "outputs": [],
   "source": [
    "\n",
    "# Define a function to standardize city names\n",
    "def standardize_city_names(city_name):\n",
    "    if 'New York' in city_name:\n",
    "        return 'New York, NY'\n",
    "    # Add more such conditions for other cities if needed\n",
    "    return city_name\n"
   ]
  },
  {
   "cell_type": "code",
   "execution_count": 12,
   "metadata": {},
   "outputs": [],
   "source": [
    "\n",
    "# Standardize the city names in the DataFrame\n",
    "city_job_count['Standardized_City'] = city_job_count['location'].apply(standardize_city_names)\n"
   ]
  },
  {
   "cell_type": "code",
   "execution_count": 13,
   "metadata": {},
   "outputs": [],
   "source": [
    "\n",
    "# Aggregate job counts for the standardized city names\n",
    "aggregated_city_job_count = city_job_count.groupby('location').size().reset_index(name='Job_Count')\n"
   ]
  },
  {
   "cell_type": "code",
   "execution_count": 14,
   "metadata": {},
   "outputs": [],
   "source": [
    "\n",
    "# Define a function to filter out non-specific locations (i.e., those not specifying a city)\n",
    "import re\n",
    "def is_specific_location(location):\n",
    "    return not re.search(r'[A-Za-z]+, United States', location)\n"
   ]
  },
  {
   "cell_type": "code",
   "execution_count": 15,
   "metadata": {},
   "outputs": [],
   "source": [
    "\n",
    "# Standardize the city names in the DataFrame\n",
    "city_job_count['Standardized_City'] = city_job_count['location'].apply(standardize_city_names)\n",
    "\n",
    "# Aggregate job counts for the standardized city names\n",
    "aggregated_city_job_count = city_job_count.groupby('Standardized_City').size().reset_index(name='Job_Count')\n",
    "\n",
    "# Apply the filter\n",
    "filtered_city_job_count = aggregated_city_job_count[aggregated_city_job_count['Standardized_City'].apply(is_specific_location)]\n"
   ]
  },
  {
   "cell_type": "code",
   "execution_count": 16,
   "metadata": {},
   "outputs": [],
   "source": [
    "\n",
    "# Filter out cities with fewer than 10 job postings\n",
    "city_job_count_filtered_10 = filtered_city_job_count[filtered_city_job_count['Job_Count'] >= 10]\n",
    "\n",
    "# Sort the data by Job_Count in descending order\n",
    "city_job_count_sorted = city_job_count_filtered_10.sort_values(by='Job_Count', ascending=False).reset_index(drop=True)\n",
    "\n"
   ]
  },
  {
   "cell_type": "code",
   "execution_count": 17,
   "metadata": {},
   "outputs": [],
   "source": [
    "\n",
    "# Extend the mapping for merging similar city names\n",
    "additional_city_mapping = {'San Francisco Bay Area': 'San Francisco, CA'}\n",
    "\n",
    "# Combine the original mapping with the additional mapping\n",
    "final_city_mapping = {**city_mapping, **additional_city_mapping}\n",
    "\n",
    "# Apply the final mapping to unify city names\n",
    "city_job_count_sorted['Standardized_City'] = city_job_count_sorted['Standardized_City'].replace(final_city_mapping)\n",
    "\n",
    "# Aggregate the job counts for the unified city names again\n",
    "city_job_count_final = city_job_count_sorted.groupby('Standardized_City').sum().reset_index()\n",
    "\n",
    "# Sort the data by Job_Count in descending order again\n",
    "city_job_count_final_sorted = city_job_count_final.sort_values(by='Job_Count', ascending=False).reset_index(drop=True)\n",
    "additional_city_mapping = {'San Francisco Bay Area': 'San Francisco, CA'}\n",
    "\n",
    "# Combine the original mapping with the additional mapping\n",
    "final_city_mapping = {**city_mapping, **additional_city_mapping}\n",
    "\n",
    "# Apply the final mapping to unify city names\n",
    "city_job_count_sorted['Standardized_City'] = city_job_count_sorted['Standardized_City'].replace(final_city_mapping)\n",
    "\n",
    "# Aggregate the job counts for the unified city names again\n",
    "city_job_count_final = city_job_count_sorted.groupby('Standardized_City').sum().reset_index()\n",
    "\n",
    "# Sort the data by Job_Count in descending order again\n",
    "city_job_count_final_sorted = city_job_count_final.sort_values(by='Job_Count', ascending=False).reset_index(drop=True)\n",
    "\n"
   ]
  },
  {
   "cell_type": "code",
   "execution_count": 18,
   "metadata": {},
   "outputs": [],
   "source": [
    "\n",
    "# Additional mappings for cities with 'Metropolitan Area' and specific cases like 'Los Angeles'\n",
    "metropolitan_mapping = {'Los Angeles Metropolitan Area': 'Los Angeles, CA', 'Austin, Texas Metropolitan Area': 'Austin, Texas', 'Atlanta Metropolitan Area': 'Atlanta', 'San Diego Metropolitan Area': 'San Diego', 'Portland, Oregon Metropolitan Area': 'Portland, Oregon', 'Salt Lake City Metropolitan Area': 'Salt Lake City', 'Columbus, Ohio Metropolitan Area': 'Columbus, Ohio', 'Nashville Metropolitan Area': 'Nashville'}\n",
    "\n",
    "# Combine all mappings\n",
    "all_city_mapping = {**final_city_mapping, **metropolitan_mapping}\n",
    "\n",
    "# Apply the final mapping to unify city names\n",
    "city_job_count_final_sorted['Standardized_City'] = city_job_count_final_sorted['Standardized_City'].replace(all_city_mapping)\n",
    "\n",
    "# Aggregate the job counts for the unified city names again\n",
    "city_job_count_final_aggregated = city_job_count_final_sorted.groupby('Standardized_City').sum().reset_index()\n",
    "\n",
    "# Sort the data by Job_Count in descending order again\n",
    "city_job_count_final_aggregated_sorted = city_job_count_final_aggregated.sort_values(by='Job_Count', ascending=False).reset_index(drop=True)\n",
    "metropolitan_mapping = {'Los Angeles Metropolitan Area': 'Los Angeles, CA', 'Austin, Texas Metropolitan Area': 'Austin, Texas', 'Atlanta Metropolitan Area': 'Atlanta', 'San Diego Metropolitan Area': 'San Diego', 'Portland, Oregon Metropolitan Area': 'Portland, Oregon', 'Salt Lake City Metropolitan Area': 'Salt Lake City', 'Columbus, Ohio Metropolitan Area': 'Columbus, Ohio', 'Nashville Metropolitan Area': 'Nashville'}\n",
    "\n",
    "# Combine all mappings\n",
    "all_city_mapping = {**final_city_mapping, **metropolitan_mapping}\n",
    "\n",
    "# Apply the final mapping to unify city names\n",
    "city_job_count_final_sorted['Standardized_City'] = city_job_count_final_sorted['Standardized_City'].replace(all_city_mapping)\n",
    "\n",
    "# Aggregate the job counts for the unified city names again\n",
    "city_job_count_final_aggregated = city_job_count_final_sorted.groupby('Standardized_City').sum().reset_index()\n",
    "\n",
    "# Sort the data by Job_Count in descending order again\n",
    "city_job_count_final_aggregated_sorted = city_job_count_final_aggregated.sort_values(by='Job_Count', ascending=False).reset_index(drop=True)\n",
    "\n"
   ]
  },
  {
   "cell_type": "code",
   "execution_count": 19,
   "metadata": {},
   "outputs": [],
   "source": [
    "\n",
    "# Additional mappings for cities that are essentially the same but have different names\n",
    "merge_mapping = {'San Mateo, CA': 'San Francisco, CA', 'San Ramon, CA': 'San Francisco, CA', 'South San Francisco, CA': 'San Francisco, CA', 'Los Angeles County, CA': 'Los Angeles, CA', 'Washington DC-Baltimore Area': 'Washington, DC', 'Greater Chicago Area': 'Chicago, IL', 'Greater Houston': 'Houston, TX', 'Austin, Texas': 'Austin, TX', 'Atlanta, GA': 'Atlanta', 'Greater Boston': 'Boston, MA'}\n",
    "\n",
    "# Apply the mapping to unify city names\n",
    "city_job_count_final_aggregated_sorted['Standardized_City'] = city_job_count_final_aggregated_sorted['Standardized_City'].replace(merge_mapping)\n",
    "\n",
    "# Aggregate the job counts for the unified city names again\n",
    "city_job_count_final_merged = city_job_count_final_aggregated_sorted.groupby('Standardized_City').sum().reset_index()\n",
    "\n",
    "# Sort the data by Job_Count in descending order again\n",
    "city_job_count_final_merged_sorted = city_job_count_final_merged.sort_values(by='Job_Count', ascending=False).reset_index(drop=True)\n",
    "\n",
    "\n"
   ]
  },
  {
   "cell_type": "code",
   "execution_count": 20,
   "metadata": {},
   "outputs": [],
   "source": [
    "\n",
    "# Additional mapping for 'Greater Philadelphia' and any other cities that need to be merged\n",
    "additional_merge_mapping = {'Greater Philadelphia': 'Philadelphia, PA'}\n",
    "\n",
    "# Combine the existing mapping with the new one\n",
    "all_merge_mapping = {**merge_mapping, **additional_merge_mapping}\n",
    "\n",
    "# Apply the new mapping to unify city names\n",
    "city_job_count_final_merged_sorted['Standardized_City'] = city_job_count_final_merged_sorted['Standardized_City'].replace(all_merge_mapping)\n",
    "\n",
    "# Aggregate the job counts for the unified city names again\n",
    "city_job_count_final_merged_again = city_job_count_final_merged_sorted.groupby('Standardized_City').sum().reset_index()\n",
    "\n",
    "# Sort the data by Job_Count in descending order again\n",
    "city_job_count_final_merged_sorted_again = city_job_count_final_merged_again.sort_values(by='Job_Count', ascending=False).reset_index(drop=True)\n",
    "\n",
    "\n"
   ]
  },
  {
   "cell_type": "code",
   "execution_count": 21,
   "metadata": {},
   "outputs": [],
   "source": [
    "\n",
    "# Additional mappings for other cities that can be merged\n",
    "additional_merge_mapping_2 = {'Dallas-Fort Worth Metroplex': 'Dallas, TX', 'Miami-Fort Lauderdale Area': 'Miami, FL', 'Greater Seattle Area': 'Seattle, WA', 'Greater Minneapolis-St. Paul Area': 'Minneapolis, MN'}\n",
    "\n",
    "# Combine all existing mappings\n",
    "final_merge_mapping = {**all_merge_mapping, **additional_merge_mapping_2}\n",
    "\n",
    "# Apply the final mapping to unify city names\n",
    "city_job_count_final_merged_sorted_again['Standardized_City'] = city_job_count_final_merged_sorted_again['Standardized_City'].replace(final_merge_mapping)\n",
    "\n",
    "# Aggregate the job counts for the unified city names one more time\n",
    "city_job_count_final_merged_final = city_job_count_final_merged_sorted_again.groupby('Standardized_City').sum().reset_index()\n",
    "\n",
    "# Sort the data by Job_Count in descending order one more time\n",
    "city_job_count_final_merged_sorted_final = city_job_count_final_merged_final.sort_values(by='Job_Count', ascending=False).reset_index(drop=True)\n",
    "\n"
   ]
  },
  {
   "cell_type": "code",
   "execution_count": 22,
   "metadata": {},
   "outputs": [],
   "source": [
    "\n",
    "# Final mappings for selected cities that are approved for merging\n",
    "selected_merge_mapping = {'Nashville': 'Nashville, TN', 'Salt Lake City': 'Salt Lake City, UT', 'San Diego': 'San Diego, CA', 'Greater Madison Area': 'Madison, WI'}\n",
    "\n",
    "# Combine all existing mappings\n",
    "final_merge_mapping_2 = {**final_merge_mapping, **selected_merge_mapping}\n",
    "\n",
    "# Apply the final mapping to unify city names\n",
    "city_job_count_final_merged_sorted_final['Standardized_City'] = city_job_count_final_merged_sorted_final['Standardized_City'].replace(final_merge_mapping_2)\n",
    "\n",
    "# Aggregate the job counts for the unified city names one last time\n",
    "city_job_count_final_merged_final_2 = city_job_count_final_merged_sorted_final.groupby('Standardized_City').sum().reset_index()\n",
    "\n",
    "# Sort the data by Job_Count in descending order one last time\n",
    "city_job_count_final_merged_sorted_final_2 = city_job_count_final_merged_final_2.sort_values(by='Job_Count', ascending=False).reset_index(drop=True)\n",
    "\n",
    "\n"
   ]
  },
  {
   "cell_type": "code",
   "execution_count": 23,
   "metadata": {},
   "outputs": [],
   "source": [
    "\n",
    "# Corrections for cities that don't follow the 'City, State' format\n",
    "correction_mapping = {'Atlanta': 'Atlanta, GA', 'Denver': 'Denver, CO', 'Orlando': 'Orlando, FL', 'Philadelphia': 'Philadelphia, PA', 'Washington, DC': 'Washington, DC'}\n",
    "\n",
    "# Apply the corrections to the data\n",
    "city_job_count_final_merged_sorted_final_2['Standardized_City'] = city_job_count_final_merged_sorted_final_2['Standardized_City'].replace(correction_mapping)\n",
    "\n",
    "city_job_count_final_merged_sorted_final_2 = city_job_count_final_merged_sorted_final_2.loc[city_job_count_final_merged_sorted_final_2['Standardized_City'] != 'United States']\n",
    "\n",
    "# Save the final processed data to a CSV file\n",
    "city_job_count_final_merged_sorted_final_2.to_csv('BubbleMap/city_job_count_final.csv', index=False)\n"
   ]
  }
 ],
 "metadata": {
  "kernelspec": {
   "display_name": "Python 3",
   "language": "python",
   "name": "python3"
  },
  "language_info": {
   "codemirror_mode": {
    "name": "ipython",
    "version": 3
   },
   "file_extension": ".py",
   "mimetype": "text/x-python",
   "name": "python",
   "nbconvert_exporter": "python",
   "pygments_lexer": "ipython3",
   "version": "3.11.6"
  }
 },
 "nbformat": 4,
 "nbformat_minor": 2
}
