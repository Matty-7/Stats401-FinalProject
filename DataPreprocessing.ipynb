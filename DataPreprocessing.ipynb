{
 "cells": [
  {
   "cell_type": "code",
   "execution_count": 5,
   "metadata": {},
   "outputs": [],
   "source": [
    "\n",
    "import pandas as pd\n",
    "\n",
    "# Load the data\n",
    "file_path = '/Users/huanjingheng/Downloads/LinkedInJobPostings2023/job_postings.csv'\n",
    "city_job_count = pd.read_csv(file_path)\n"
   ]
  },
  {
   "cell_type": "code",
   "execution_count": 6,
   "metadata": {},
   "outputs": [],
   "source": [
    "\n",
    "# Define a mapping for merging similar city names\n",
    "city_mapping = {\n",
    "    'New York City Metropolitan Area': 'New York, NY',\n",
    "    'New York, United States': 'New York, NY',\n",
    "    # Add more mappings as needed\n",
    "}\n",
    "\n",
    "# Apply the mapping to unify city names\n",
    "city_job_count['location'] = city_job_count['location'].replace(city_mapping)\n"
   ]
  },
  {
   "cell_type": "code",
   "execution_count": null,
   "metadata": {},
   "outputs": [],
   "source": []
  }
 ],
 "metadata": {
  "kernelspec": {
   "display_name": "Python 3",
   "language": "python",
   "name": "python3"
  },
  "language_info": {
   "codemirror_mode": {
    "name": "ipython",
    "version": 3
   },
   "file_extension": ".py",
   "mimetype": "text/x-python",
   "name": "python",
   "nbconvert_exporter": "python",
   "pygments_lexer": "ipython3",
   "version": "3.11.6"
  }
 },
 "nbformat": 4,
 "nbformat_minor": 2
}
